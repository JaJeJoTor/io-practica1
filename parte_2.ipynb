{
 "cells": [
  {
   "cell_type": "markdown",
   "id": "9bc42502",
   "metadata": {},
   "source": [
    "### Cargamos el Dataset de MINST"
   ]
  },
  {
   "cell_type": "code",
   "execution_count": 1,
   "id": "a1ea7ec0",
   "metadata": {},
   "outputs": [
    {
     "name": "stderr",
     "output_type": "stream",
     "text": [
      "/home/jesus/miniconda3/envs/entorno_universidad/lib/python3.11/site-packages/torchvision/io/image.py:13: UserWarning: Failed to load image Python extension: '/home/jesus/miniconda3/envs/entorno_universidad/lib/python3.11/site-packages/torchvision/image.so: undefined symbol: _ZN3c1017RegisterOperatorsD1Ev'If you don't plan on using image functionality from `torchvision.io`, you can ignore this warning. Otherwise, there might be something wrong with your environment. Did you have `libjpeg` or `libpng` installed before building `torchvision` from source?\n",
      "  warn(\n"
     ]
    }
   ],
   "source": [
    "import torch\n",
    "from torchvision import datasets, transforms\n",
    "from torch.utils.data import DataLoader\n",
    "\n",
    "# Transformación de imagen a tensor\n",
    "transform = transforms.Compose([transforms.ToTensor(), transforms.Normalize((0.5,), (0.5,))])\n",
    "\n",
    "# Datasets\n",
    "train_dataset = datasets.MNIST(root='./data', train=True, download=True, transform=transform)\n",
    "test_dataset  = datasets.MNIST(root='./data', train=False, download=True, transform=transform)\n",
    "\n",
    "X_train, y_train = train_dataset.data.numpy(), train_dataset.targets.numpy()\n",
    "X_test, y_test = test_dataset.data.numpy(), test_dataset.targets.numpy()\n",
    "\n",
    "X_train, X_test = X_train.reshape(len(X_train), -1) / 255, X_test.reshape(len(X_test), -1) / 255"
   ]
  },
  {
   "cell_type": "markdown",
   "id": "6e49cbb3",
   "metadata": {},
   "source": [
    "### Cargamos los modelos que hemos entrenado y guardado en los archivos python."
   ]
  },
  {
   "cell_type": "code",
   "execution_count": 2,
   "id": "7cd740b5",
   "metadata": {},
   "outputs": [],
   "source": [
    "import torch\n",
    "import joblib\n",
    "from NN import NN\n",
    "\n",
    "red = NN(28*28)\n",
    "red.load_state_dict(torch.load('modelo.pth', map_location= torch.device('cpu')))\n",
    "red.eval()\n",
    "\n",
    "svc = joblib.load('SVC.pkl')"
   ]
  },
  {
   "cell_type": "markdown",
   "id": "dd7da452",
   "metadata": {},
   "source": [
    "### Comprobamos el accuracy de estos mdoelos."
   ]
  },
  {
   "cell_type": "code",
   "execution_count": 3,
   "id": "54022aba",
   "metadata": {},
   "outputs": [
    {
     "name": "stdout",
     "output_type": "stream",
     "text": [
      "Accuracy red: 0.9841\n",
      "Accuracy SVC: 0.9833\n"
     ]
    }
   ],
   "source": [
    "from sklearn.metrics import accuracy_score\n",
    "\n",
    "print(f'Accuracy red: {red.accuracy(test_dataset, device= \"cpu\")}')\n",
    "print(f'Accuracy SVC: {accuracy_score(y_test, svc.predict(X_test))}')"
   ]
  },
  {
   "cell_type": "markdown",
   "id": "085c31cd",
   "metadata": {},
   "source": [
    "### Generamos unas cuantas imagenes adversarias y tratamos de predecirlas con la red y con la SVC."
   ]
  },
  {
   "cell_type": "code",
   "execution_count": null,
   "id": "2fe90724",
   "metadata": {},
   "outputs": [],
   "source": [
    "from FGSM import get_adversarial_images\n",
    "import matplotlib.pyplot as plt\n",
    "\n",
    "epsilons = [0.0, 0.05, 0.1, 0.15, 0.2, 0.25, 0.3]\n",
    "accuracies_red = []\n",
    "accuracies_svc = []\n",
    "\n",
    "test_dataset_loader = DataLoader(test_dataset, batch_size= 256)\n",
    "\n",
    "for epsilon in epsilons:\n",
    "\n",
    "        modified_images, labels = get_adversarial_images(red, test_dataset_loader, epsilon= epsilon)\n",
    "        # Primero lo hacemos para la red neuronal\n",
    "        with torch.no_grad():\n",
    "            outputs = red(modified_images)\n",
    "            y_pred = torch.argmax(outputs, dim= 1)\n",
    "            total = labels.size(0)\n",
    "            correct = (y_pred == labels).sum().item()\n",
    "        \n",
    "        # Calculamos el accuracy.\n",
    "        accuracies_red.append(correct / total)\n",
    "        \n",
    "\t\t# Ahora para la svc\n",
    "        y_pred = svc.predict(modified_images.detach().numpy().reshape(len(modified_images), 28*28))\n",
    "        accuracies_svc.append(y_pred == labels.numpy() / total)\n",
    "\n",
    "plt.title('Relación accuracy valor de epsilon Red Neuronal')\n",
    "plt.plot(epsilons, accuracies_red, color= 'red', label= 'Accuracy red')\n",
    "plt.plot(epsilons, accuracies_svc, color= 'blue', label= 'Accuracy svc')\n",
    "plt.xlabel('Epsilon')\n",
    "plt.ylabel('Accuracy')"
   ]
  }
 ],
 "metadata": {
  "kernelspec": {
   "display_name": "entorno_universidad",
   "language": "python",
   "name": "python3"
  },
  "language_info": {
   "codemirror_mode": {
    "name": "ipython",
    "version": 3
   },
   "file_extension": ".py",
   "mimetype": "text/x-python",
   "name": "python",
   "nbconvert_exporter": "python",
   "pygments_lexer": "ipython3",
   "version": "3.11.14"
  }
 },
 "nbformat": 4,
 "nbformat_minor": 5
}
